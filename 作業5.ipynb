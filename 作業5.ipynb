{
 "cells": [
  {
   "cell_type": "code",
   "execution_count": 1,
   "id": "854c12d2-d297-4f52-a9a5-1afcee9c0f02",
   "metadata": {},
   "outputs": [],
   "source": [
    "import speech_recognition\n",
    "r=speech_recognition.Recognizer()\n",
    "with speech_recognition.Microphone() as sourse:\n",
    "    audio = r.listen(sourse)"
   ]
  },
  {
   "cell_type": "code",
   "execution_count": 2,
   "id": "957102bc-77a6-4c77-b429-74f7902ee02c",
   "metadata": {},
   "outputs": [
    {
     "data": {
      "text/plain": [
       "'中原大學'"
      ]
     },
     "execution_count": 2,
     "metadata": {},
     "output_type": "execute_result"
    }
   ],
   "source": [
    "r.recognize_google(audio, language='zh-TW')"
   ]
  },
  {
   "cell_type": "code",
   "execution_count": 6,
   "id": "1b44ad4e-a427-4d6d-aece-98d7d75226d3",
   "metadata": {},
   "outputs": [],
   "source": [
    "import speech_recognition\n",
    "r=speech_recognition.Recognizer()\n",
    "with speech_recognition.Microphone() as sourse:\n",
    "    audio = r.listen(sourse)"
   ]
  },
  {
   "cell_type": "code",
   "execution_count": 7,
   "id": "69ae727f-19c5-4650-8bfa-156da1dbc7db",
   "metadata": {},
   "outputs": [
    {
     "data": {
      "text/plain": [
       "'Chong young Christian University'"
      ]
     },
     "execution_count": 7,
     "metadata": {},
     "output_type": "execute_result"
    }
   ],
   "source": [
    "r.recognize_google(audio, language='en')"
   ]
  },
  {
   "cell_type": "code",
   "execution_count": 1,
   "id": "8a166438-36cd-4f83-9f11-722a9742fd1d",
   "metadata": {},
   "outputs": [],
   "source": [
    "import speech_recognition\n",
    "r=speech_recognition.Recognizer()\n",
    "with speech_recognition.Microphone() as sourse:\n",
    "    audio = r.listen(sourse)"
   ]
  },
  {
   "cell_type": "code",
   "execution_count": 2,
   "id": "92b6ae37-c47f-4c66-b82d-1bc9e30b9c8a",
   "metadata": {},
   "outputs": [
    {
     "data": {
      "text/plain": [
       "'こんにちは'"
      ]
     },
     "execution_count": 2,
     "metadata": {},
     "output_type": "execute_result"
    }
   ],
   "source": [
    "r.recognize_google(audio, language='ja')"
   ]
  },
  {
   "cell_type": "code",
   "execution_count": null,
   "id": "61a06bff-9c8b-4fb3-9a28-10dcf3c137e7",
   "metadata": {},
   "outputs": [],
   "source": []
  }
 ],
 "metadata": {
  "kernelspec": {
   "display_name": "Python 3 (ipykernel)",
   "language": "python",
   "name": "python3"
  },
  "language_info": {
   "codemirror_mode": {
    "name": "ipython",
    "version": 3
   },
   "file_extension": ".py",
   "mimetype": "text/x-python",
   "name": "python",
   "nbconvert_exporter": "python",
   "pygments_lexer": "ipython3",
   "version": "3.11.7"
  }
 },
 "nbformat": 4,
 "nbformat_minor": 5
}
