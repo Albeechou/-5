{
 "cells": [
  {
   "cell_type": "code",
   "execution_count": 2,
   "id": "9c722c28-b05e-49ca-8941-a4b89ae1febc",
   "metadata": {},
   "outputs": [],
   "source": [
    "from gtts import gTTS\n",
    "tts=gTTS(text='周周你好嗎?', lang='zh-TW')\n",
    "tts.save('fa.mp3')"
   ]
  },
  {
   "cell_type": "code",
   "execution_count": 3,
   "id": "d3b4ad1c-bb79-479f-ac66-07f7a4b78b33",
   "metadata": {},
   "outputs": [
    {
     "name": "stdout",
     "output_type": "stream",
     "text": [
      "pygame 2.5.2 (SDL 2.28.3, Python 3.11.7)\n",
      "Hello from the pygame community. https://www.pygame.org/contribute.html\n"
     ]
    }
   ],
   "source": [
    "from pygame import mixer\n",
    "mixer.init()\n",
    "mixer.music.load('fa.mp3')\n",
    "mixer.music.play()"
   ]
  },
  {
   "cell_type": "code",
   "execution_count": 7,
   "id": "1ba9698f-a7f4-4583-b024-0742f2aaf432",
   "metadata": {},
   "outputs": [],
   "source": [
    "from gtts import gTTS\n",
    "ttsl=gTTS(text='ありがとう', lang='ja')\n",
    "ttsl.save('japanese_thank_you.mp3')"
   ]
  },
  {
   "cell_type": "code",
   "execution_count": 8,
   "id": "35839652-714a-4c7d-a664-d69acad4b08b",
   "metadata": {},
   "outputs": [],
   "source": [
    "from pygame import mixer\n",
    "mixer.init()\n",
    "mixer.music.load('japanese_thank_you.mp3')\n",
    "mixer.music.play()"
   ]
  },
  {
   "cell_type": "code",
   "execution_count": 20,
   "id": "66cf3b48-1fb0-4da5-be72-3a740bd13144",
   "metadata": {},
   "outputs": [],
   "source": [
    "import tempfile\n",
    "def speak(sentence):\n",
    "    with tempfile.NamedTemporaryFile(delete=True) as fp:\n",
    "        tts=gTTS(text=sentence, lang='zh-CN')\n",
    "        tts.save(\"{}.mp3\". format(fp.name))\n",
    "        mixer.music.load('{}.mp3'.format(fp.name))\n",
    "        mixer.music.play()"
   ]
  },
  {
   "cell_type": "code",
   "execution_count": 21,
   "id": "3443f613-cc1a-4733-9c00-4297f666212e",
   "metadata": {},
   "outputs": [],
   "source": [
    "speak('周周你好')"
   ]
  },
  {
   "cell_type": "code",
   "execution_count": 22,
   "id": "9889b21c-e83c-419e-8ab3-587f4c8e139f",
   "metadata": {},
   "outputs": [],
   "source": [
    "import tempfile\n",
    "def speak(sentence):\n",
    "    with tempfile.NamedTemporaryFile(delete=True) as fp:\n",
    "        ttsl=gTTS(text=sentence, lang='ja')\n",
    "        ttsl.save(\"{}.mp3\".format(fp.name))\n",
    "        mixer.music.load('{}.mp3'.format(fp.name))\n",
    "        mixer.music.play()"
   ]
  },
  {
   "cell_type": "code",
   "execution_count": 23,
   "id": "95554e4e-6df3-4c80-965a-8bbe1b3bb8ab",
   "metadata": {},
   "outputs": [],
   "source": [
    "# 小林一茶 故鄉啊，挨著碰著，都是帶刺的花"
   ]
  },
  {
   "cell_type": "code",
   "execution_count": 24,
   "id": "606a4cee-6533-4aa6-a39b-5d382af08246",
   "metadata": {},
   "outputs": [],
   "source": [
    "speak('故郷やよるもさはるも茨の花')"
   ]
  },
  {
   "cell_type": "code",
   "execution_count": null,
   "id": "f93a06d3-823e-47c0-a9f4-b341dd89f710",
   "metadata": {},
   "outputs": [],
   "source": []
  }
 ],
 "metadata": {
  "kernelspec": {
   "display_name": "Python 3 (ipykernel)",
   "language": "python",
   "name": "python3"
  },
  "language_info": {
   "codemirror_mode": {
    "name": "ipython",
    "version": 3
   },
   "file_extension": ".py",
   "mimetype": "text/x-python",
   "name": "python",
   "nbconvert_exporter": "python",
   "pygments_lexer": "ipython3",
   "version": "3.11.7"
  }
 },
 "nbformat": 4,
 "nbformat_minor": 5
}
